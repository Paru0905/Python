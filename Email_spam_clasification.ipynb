{
  "nbformat": 4,
  "nbformat_minor": 0,
  "metadata": {
    "colab": {
      "provenance": [],
      "authorship_tag": "ABX9TyN0mmHGfEmWtZOla9sqUv+5",
      "include_colab_link": true
    },
    "kernelspec": {
      "name": "python3",
      "display_name": "Python 3"
    },
    "language_info": {
      "name": "python"
    }
  },
  "cells": [
    {
      "cell_type": "markdown",
      "metadata": {
        "id": "view-in-github",
        "colab_type": "text"
      },
      "source": [
        "<a href=\"https://colab.research.google.com/github/pareshbadgujar2000/Python/blob/main/Email_spam_clasification.ipynb\" target=\"_parent\"><img src=\"https://colab.research.google.com/assets/colab-badge.svg\" alt=\"Open In Colab\"/></a>"
      ]
    },
    {
      "cell_type": "code",
      "source": [
        "dataset_link=https://drive.google.com/file/d/1vBFx..."
      ],
      "metadata": {
        "id": "cCp6gQDGQ1UM"
      },
      "execution_count": null,
      "outputs": []
    },
    {
      "cell_type": "code",
      "execution_count": 43,
      "metadata": {
        "id": "VtGVhPRuA3Em"
      },
      "outputs": [],
      "source": [
        "import pandas as pd\n",
        "from sklearn.feature_extraction.text import CountVectorizer\n",
        "from sklearn.naive_bayes import MultinomialNB, GaussianNB\n",
        "from sklearn.model_selection import train_test_split\n",
        "from sklearn import svm\n"
      ]
    },
    {
      "cell_type": "code",
      "source": [
        "data=pd.read_csv('/content/spam.csv')"
      ],
      "metadata": {
        "id": "UuQhTRYyB9SJ"
      },
      "execution_count": 44,
      "outputs": []
    },
    {
      "cell_type": "code",
      "source": [
        "data.T"
      ],
      "metadata": {
        "colab": {
          "base_uri": "https://localhost:8080/",
          "height": 379
        },
        "id": "f4HUIKcxE_u-",
        "outputId": "262d7475-be5a-4d0b-e09c-e7370ed01a9b"
      },
      "execution_count": 45,
      "outputs": [
        {
          "output_type": "execute_result",
          "data": {
            "text/plain": [
              "                                                        0     \\\n",
              "Label                                                    ham   \n",
              "EmailText  Go until jurong point, crazy.. Available only ...   \n",
              "\n",
              "                                    1     \\\n",
              "Label                                ham   \n",
              "EmailText  Ok lar... Joking wif u oni...   \n",
              "\n",
              "                                                        2     \\\n",
              "Label                                                   spam   \n",
              "EmailText  Free entry in 2 a wkly comp to win FA Cup fina...   \n",
              "\n",
              "                                                        3     \\\n",
              "Label                                                    ham   \n",
              "EmailText  U dun say so early hor... U c already then say...   \n",
              "\n",
              "                                                        4     \\\n",
              "Label                                                    ham   \n",
              "EmailText  Nah I don't think he goes to usf, he lives aro...   \n",
              "\n",
              "                                                        5     \\\n",
              "Label                                                   spam   \n",
              "EmailText  FreeMsg Hey there darling it's been 3 week's n...   \n",
              "\n",
              "                                                        6     \\\n",
              "Label                                                    ham   \n",
              "EmailText  Even my brother is not like to speak with me. ...   \n",
              "\n",
              "                                                        7     \\\n",
              "Label                                                    ham   \n",
              "EmailText  As per your request 'Melle Melle (Oru Minnamin...   \n",
              "\n",
              "                                                        8     \\\n",
              "Label                                                   spam   \n",
              "EmailText  WINNER!! As a valued network customer you have...   \n",
              "\n",
              "                                                        9     ...  \\\n",
              "Label                                                   spam  ...   \n",
              "EmailText  Had your mobile 11 months or more? U R entitle...  ...   \n",
              "\n",
              "                                                        5562  \\\n",
              "Label                                                    ham   \n",
              "EmailText  Ok lor... Sony ericsson salesman... I ask shuh...   \n",
              "\n",
              "                          5563  \\\n",
              "Label                      ham   \n",
              "EmailText  Ard 6 like dat lor.   \n",
              "\n",
              "                                                        5564          5565  \\\n",
              "Label                                                    ham           ham   \n",
              "EmailText  Why don't you wait 'til at least wednesday to ...  Huh y lei...   \n",
              "\n",
              "                                                        5566  \\\n",
              "Label                                                   spam   \n",
              "EmailText  REMINDER FROM O2: To get 2.50 pounds free call...   \n",
              "\n",
              "                                                        5567  \\\n",
              "Label                                                   spam   \n",
              "EmailText  This is the 2nd time we have tried 2 contact u...   \n",
              "\n",
              "                                             5568  \\\n",
              "Label                                         ham   \n",
              "EmailText  Will Ã_ b going to esplanade fr home?   \n",
              "\n",
              "                                                        5569  \\\n",
              "Label                                                    ham   \n",
              "EmailText  Pity, * was in mood for that. So...any other s...   \n",
              "\n",
              "                                                        5570  \\\n",
              "Label                                                    ham   \n",
              "EmailText  The guy did some bitching but I acted like i'd...   \n",
              "\n",
              "                                 5571  \n",
              "Label                             ham  \n",
              "EmailText  Rofl. Its true to its name  \n",
              "\n",
              "[2 rows x 5572 columns]"
            ],
            "text/html": [
              "\n",
              "  <div id=\"df-62e8adf4-04f0-4f9a-85a2-d2144a88515e\">\n",
              "    <div class=\"colab-df-container\">\n",
              "      <div>\n",
              "<style scoped>\n",
              "    .dataframe tbody tr th:only-of-type {\n",
              "        vertical-align: middle;\n",
              "    }\n",
              "\n",
              "    .dataframe tbody tr th {\n",
              "        vertical-align: top;\n",
              "    }\n",
              "\n",
              "    .dataframe thead th {\n",
              "        text-align: right;\n",
              "    }\n",
              "</style>\n",
              "<table border=\"1\" class=\"dataframe\">\n",
              "  <thead>\n",
              "    <tr style=\"text-align: right;\">\n",
              "      <th></th>\n",
              "      <th>0</th>\n",
              "      <th>1</th>\n",
              "      <th>2</th>\n",
              "      <th>3</th>\n",
              "      <th>4</th>\n",
              "      <th>5</th>\n",
              "      <th>6</th>\n",
              "      <th>7</th>\n",
              "      <th>8</th>\n",
              "      <th>9</th>\n",
              "      <th>...</th>\n",
              "      <th>5562</th>\n",
              "      <th>5563</th>\n",
              "      <th>5564</th>\n",
              "      <th>5565</th>\n",
              "      <th>5566</th>\n",
              "      <th>5567</th>\n",
              "      <th>5568</th>\n",
              "      <th>5569</th>\n",
              "      <th>5570</th>\n",
              "      <th>5571</th>\n",
              "    </tr>\n",
              "  </thead>\n",
              "  <tbody>\n",
              "    <tr>\n",
              "      <th>Label</th>\n",
              "      <td>ham</td>\n",
              "      <td>ham</td>\n",
              "      <td>spam</td>\n",
              "      <td>ham</td>\n",
              "      <td>ham</td>\n",
              "      <td>spam</td>\n",
              "      <td>ham</td>\n",
              "      <td>ham</td>\n",
              "      <td>spam</td>\n",
              "      <td>spam</td>\n",
              "      <td>...</td>\n",
              "      <td>ham</td>\n",
              "      <td>ham</td>\n",
              "      <td>ham</td>\n",
              "      <td>ham</td>\n",
              "      <td>spam</td>\n",
              "      <td>spam</td>\n",
              "      <td>ham</td>\n",
              "      <td>ham</td>\n",
              "      <td>ham</td>\n",
              "      <td>ham</td>\n",
              "    </tr>\n",
              "    <tr>\n",
              "      <th>EmailText</th>\n",
              "      <td>Go until jurong point, crazy.. Available only ...</td>\n",
              "      <td>Ok lar... Joking wif u oni...</td>\n",
              "      <td>Free entry in 2 a wkly comp to win FA Cup fina...</td>\n",
              "      <td>U dun say so early hor... U c already then say...</td>\n",
              "      <td>Nah I don't think he goes to usf, he lives aro...</td>\n",
              "      <td>FreeMsg Hey there darling it's been 3 week's n...</td>\n",
              "      <td>Even my brother is not like to speak with me. ...</td>\n",
              "      <td>As per your request 'Melle Melle (Oru Minnamin...</td>\n",
              "      <td>WINNER!! As a valued network customer you have...</td>\n",
              "      <td>Had your mobile 11 months or more? U R entitle...</td>\n",
              "      <td>...</td>\n",
              "      <td>Ok lor... Sony ericsson salesman... I ask shuh...</td>\n",
              "      <td>Ard 6 like dat lor.</td>\n",
              "      <td>Why don't you wait 'til at least wednesday to ...</td>\n",
              "      <td>Huh y lei...</td>\n",
              "      <td>REMINDER FROM O2: To get 2.50 pounds free call...</td>\n",
              "      <td>This is the 2nd time we have tried 2 contact u...</td>\n",
              "      <td>Will Ã_ b going to esplanade fr home?</td>\n",
              "      <td>Pity, * was in mood for that. So...any other s...</td>\n",
              "      <td>The guy did some bitching but I acted like i'd...</td>\n",
              "      <td>Rofl. Its true to its name</td>\n",
              "    </tr>\n",
              "  </tbody>\n",
              "</table>\n",
              "<p>2 rows × 5572 columns</p>\n",
              "</div>\n",
              "      <button class=\"colab-df-convert\" onclick=\"convertToInteractive('df-62e8adf4-04f0-4f9a-85a2-d2144a88515e')\"\n",
              "              title=\"Convert this dataframe to an interactive table.\"\n",
              "              style=\"display:none;\">\n",
              "        \n",
              "  <svg xmlns=\"http://www.w3.org/2000/svg\" height=\"24px\"viewBox=\"0 0 24 24\"\n",
              "       width=\"24px\">\n",
              "    <path d=\"M0 0h24v24H0V0z\" fill=\"none\"/>\n",
              "    <path d=\"M18.56 5.44l.94 2.06.94-2.06 2.06-.94-2.06-.94-.94-2.06-.94 2.06-2.06.94zm-11 1L8.5 8.5l.94-2.06 2.06-.94-2.06-.94L8.5 2.5l-.94 2.06-2.06.94zm10 10l.94 2.06.94-2.06 2.06-.94-2.06-.94-.94-2.06-.94 2.06-2.06.94z\"/><path d=\"M17.41 7.96l-1.37-1.37c-.4-.4-.92-.59-1.43-.59-.52 0-1.04.2-1.43.59L10.3 9.45l-7.72 7.72c-.78.78-.78 2.05 0 2.83L4 21.41c.39.39.9.59 1.41.59.51 0 1.02-.2 1.41-.59l7.78-7.78 2.81-2.81c.8-.78.8-2.07 0-2.86zM5.41 20L4 18.59l7.72-7.72 1.47 1.35L5.41 20z\"/>\n",
              "  </svg>\n",
              "      </button>\n",
              "      \n",
              "  <style>\n",
              "    .colab-df-container {\n",
              "      display:flex;\n",
              "      flex-wrap:wrap;\n",
              "      gap: 12px;\n",
              "    }\n",
              "\n",
              "    .colab-df-convert {\n",
              "      background-color: #E8F0FE;\n",
              "      border: none;\n",
              "      border-radius: 50%;\n",
              "      cursor: pointer;\n",
              "      display: none;\n",
              "      fill: #1967D2;\n",
              "      height: 32px;\n",
              "      padding: 0 0 0 0;\n",
              "      width: 32px;\n",
              "    }\n",
              "\n",
              "    .colab-df-convert:hover {\n",
              "      background-color: #E2EBFA;\n",
              "      box-shadow: 0px 1px 2px rgba(60, 64, 67, 0.3), 0px 1px 3px 1px rgba(60, 64, 67, 0.15);\n",
              "      fill: #174EA6;\n",
              "    }\n",
              "\n",
              "    [theme=dark] .colab-df-convert {\n",
              "      background-color: #3B4455;\n",
              "      fill: #D2E3FC;\n",
              "    }\n",
              "\n",
              "    [theme=dark] .colab-df-convert:hover {\n",
              "      background-color: #434B5C;\n",
              "      box-shadow: 0px 1px 3px 1px rgba(0, 0, 0, 0.15);\n",
              "      filter: drop-shadow(0px 1px 2px rgba(0, 0, 0, 0.3));\n",
              "      fill: #FFFFFF;\n",
              "    }\n",
              "  </style>\n",
              "\n",
              "      <script>\n",
              "        const buttonEl =\n",
              "          document.querySelector('#df-62e8adf4-04f0-4f9a-85a2-d2144a88515e button.colab-df-convert');\n",
              "        buttonEl.style.display =\n",
              "          google.colab.kernel.accessAllowed ? 'block' : 'none';\n",
              "\n",
              "        async function convertToInteractive(key) {\n",
              "          const element = document.querySelector('#df-62e8adf4-04f0-4f9a-85a2-d2144a88515e');\n",
              "          const dataTable =\n",
              "            await google.colab.kernel.invokeFunction('convertToInteractive',\n",
              "                                                     [key], {});\n",
              "          if (!dataTable) return;\n",
              "\n",
              "          const docLinkHtml = 'Like what you see? Visit the ' +\n",
              "            '<a target=\"_blank\" href=https://colab.research.google.com/notebooks/data_table.ipynb>data table notebook</a>'\n",
              "            + ' to learn more about interactive tables.';\n",
              "          element.innerHTML = '';\n",
              "          dataTable['output_type'] = 'display_data';\n",
              "          await google.colab.output.renderOutput(dataTable, element);\n",
              "          const docLink = document.createElement('div');\n",
              "          docLink.innerHTML = docLinkHtml;\n",
              "          element.appendChild(docLink);\n",
              "        }\n",
              "      </script>\n",
              "    </div>\n",
              "  </div>\n",
              "  "
            ]
          },
          "metadata": {},
          "execution_count": 45
        }
      ]
    },
    {
      "cell_type": "code",
      "source": [
        "data.head()"
      ],
      "metadata": {
        "colab": {
          "base_uri": "https://localhost:8080/",
          "height": 206
        },
        "id": "pp5R-ORGFA6T",
        "outputId": "6d4d913c-2b76-4ac6-f798-94e3e556bc28"
      },
      "execution_count": 46,
      "outputs": [
        {
          "output_type": "execute_result",
          "data": {
            "text/plain": [
              "  Label                                          EmailText\n",
              "0   ham  Go until jurong point, crazy.. Available only ...\n",
              "1   ham                      Ok lar... Joking wif u oni...\n",
              "2  spam  Free entry in 2 a wkly comp to win FA Cup fina...\n",
              "3   ham  U dun say so early hor... U c already then say...\n",
              "4   ham  Nah I don't think he goes to usf, he lives aro..."
            ],
            "text/html": [
              "\n",
              "  <div id=\"df-06d51bb0-8d7c-4369-a3c2-dd2f86f63bd4\">\n",
              "    <div class=\"colab-df-container\">\n",
              "      <div>\n",
              "<style scoped>\n",
              "    .dataframe tbody tr th:only-of-type {\n",
              "        vertical-align: middle;\n",
              "    }\n",
              "\n",
              "    .dataframe tbody tr th {\n",
              "        vertical-align: top;\n",
              "    }\n",
              "\n",
              "    .dataframe thead th {\n",
              "        text-align: right;\n",
              "    }\n",
              "</style>\n",
              "<table border=\"1\" class=\"dataframe\">\n",
              "  <thead>\n",
              "    <tr style=\"text-align: right;\">\n",
              "      <th></th>\n",
              "      <th>Label</th>\n",
              "      <th>EmailText</th>\n",
              "    </tr>\n",
              "  </thead>\n",
              "  <tbody>\n",
              "    <tr>\n",
              "      <th>0</th>\n",
              "      <td>ham</td>\n",
              "      <td>Go until jurong point, crazy.. Available only ...</td>\n",
              "    </tr>\n",
              "    <tr>\n",
              "      <th>1</th>\n",
              "      <td>ham</td>\n",
              "      <td>Ok lar... Joking wif u oni...</td>\n",
              "    </tr>\n",
              "    <tr>\n",
              "      <th>2</th>\n",
              "      <td>spam</td>\n",
              "      <td>Free entry in 2 a wkly comp to win FA Cup fina...</td>\n",
              "    </tr>\n",
              "    <tr>\n",
              "      <th>3</th>\n",
              "      <td>ham</td>\n",
              "      <td>U dun say so early hor... U c already then say...</td>\n",
              "    </tr>\n",
              "    <tr>\n",
              "      <th>4</th>\n",
              "      <td>ham</td>\n",
              "      <td>Nah I don't think he goes to usf, he lives aro...</td>\n",
              "    </tr>\n",
              "  </tbody>\n",
              "</table>\n",
              "</div>\n",
              "      <button class=\"colab-df-convert\" onclick=\"convertToInteractive('df-06d51bb0-8d7c-4369-a3c2-dd2f86f63bd4')\"\n",
              "              title=\"Convert this dataframe to an interactive table.\"\n",
              "              style=\"display:none;\">\n",
              "        \n",
              "  <svg xmlns=\"http://www.w3.org/2000/svg\" height=\"24px\"viewBox=\"0 0 24 24\"\n",
              "       width=\"24px\">\n",
              "    <path d=\"M0 0h24v24H0V0z\" fill=\"none\"/>\n",
              "    <path d=\"M18.56 5.44l.94 2.06.94-2.06 2.06-.94-2.06-.94-.94-2.06-.94 2.06-2.06.94zm-11 1L8.5 8.5l.94-2.06 2.06-.94-2.06-.94L8.5 2.5l-.94 2.06-2.06.94zm10 10l.94 2.06.94-2.06 2.06-.94-2.06-.94-.94-2.06-.94 2.06-2.06.94z\"/><path d=\"M17.41 7.96l-1.37-1.37c-.4-.4-.92-.59-1.43-.59-.52 0-1.04.2-1.43.59L10.3 9.45l-7.72 7.72c-.78.78-.78 2.05 0 2.83L4 21.41c.39.39.9.59 1.41.59.51 0 1.02-.2 1.41-.59l7.78-7.78 2.81-2.81c.8-.78.8-2.07 0-2.86zM5.41 20L4 18.59l7.72-7.72 1.47 1.35L5.41 20z\"/>\n",
              "  </svg>\n",
              "      </button>\n",
              "      \n",
              "  <style>\n",
              "    .colab-df-container {\n",
              "      display:flex;\n",
              "      flex-wrap:wrap;\n",
              "      gap: 12px;\n",
              "    }\n",
              "\n",
              "    .colab-df-convert {\n",
              "      background-color: #E8F0FE;\n",
              "      border: none;\n",
              "      border-radius: 50%;\n",
              "      cursor: pointer;\n",
              "      display: none;\n",
              "      fill: #1967D2;\n",
              "      height: 32px;\n",
              "      padding: 0 0 0 0;\n",
              "      width: 32px;\n",
              "    }\n",
              "\n",
              "    .colab-df-convert:hover {\n",
              "      background-color: #E2EBFA;\n",
              "      box-shadow: 0px 1px 2px rgba(60, 64, 67, 0.3), 0px 1px 3px 1px rgba(60, 64, 67, 0.15);\n",
              "      fill: #174EA6;\n",
              "    }\n",
              "\n",
              "    [theme=dark] .colab-df-convert {\n",
              "      background-color: #3B4455;\n",
              "      fill: #D2E3FC;\n",
              "    }\n",
              "\n",
              "    [theme=dark] .colab-df-convert:hover {\n",
              "      background-color: #434B5C;\n",
              "      box-shadow: 0px 1px 3px 1px rgba(0, 0, 0, 0.15);\n",
              "      filter: drop-shadow(0px 1px 2px rgba(0, 0, 0, 0.3));\n",
              "      fill: #FFFFFF;\n",
              "    }\n",
              "  </style>\n",
              "\n",
              "      <script>\n",
              "        const buttonEl =\n",
              "          document.querySelector('#df-06d51bb0-8d7c-4369-a3c2-dd2f86f63bd4 button.colab-df-convert');\n",
              "        buttonEl.style.display =\n",
              "          google.colab.kernel.accessAllowed ? 'block' : 'none';\n",
              "\n",
              "        async function convertToInteractive(key) {\n",
              "          const element = document.querySelector('#df-06d51bb0-8d7c-4369-a3c2-dd2f86f63bd4');\n",
              "          const dataTable =\n",
              "            await google.colab.kernel.invokeFunction('convertToInteractive',\n",
              "                                                     [key], {});\n",
              "          if (!dataTable) return;\n",
              "\n",
              "          const docLinkHtml = 'Like what you see? Visit the ' +\n",
              "            '<a target=\"_blank\" href=https://colab.research.google.com/notebooks/data_table.ipynb>data table notebook</a>'\n",
              "            + ' to learn more about interactive tables.';\n",
              "          element.innerHTML = '';\n",
              "          dataTable['output_type'] = 'display_data';\n",
              "          await google.colab.output.renderOutput(dataTable, element);\n",
              "          const docLink = document.createElement('div');\n",
              "          docLink.innerHTML = docLinkHtml;\n",
              "          element.appendChild(docLink);\n",
              "        }\n",
              "      </script>\n",
              "    </div>\n",
              "  </div>\n",
              "  "
            ]
          },
          "metadata": {},
          "execution_count": 46
        }
      ]
    },
    {
      "cell_type": "code",
      "source": [
        "x=data[\"EmailText\"]\n",
        "y=data[\"Label\"]"
      ],
      "metadata": {
        "id": "Ttpgu49eFKtH"
      },
      "execution_count": 47,
      "outputs": []
    },
    {
      "cell_type": "code",
      "source": [
        " x_train, x_test, y_train, y_test = train_test_split( x, y, test_size=0.2,random_state=20)"
      ],
      "metadata": {
        "id": "8B94kG_BFndS"
      },
      "execution_count": 48,
      "outputs": []
    },
    {
      "cell_type": "code",
      "source": [
        "x_train"
      ],
      "metadata": {
        "colab": {
          "base_uri": "https://localhost:8080/"
        },
        "id": "INvhUJoJJz7W",
        "outputId": "f775b865-b327-4329-e354-cf9d1d5b6ef7"
      },
      "execution_count": 49,
      "outputs": [
        {
          "output_type": "execute_result",
          "data": {
            "text/plain": [
              "3705    Reading gud habit.. Nan bari hudgi yorge patai...\n",
              "1649                       ITS A LAPTOP TAKE IT WITH YOU.\n",
              "4833                        I hope your pee burns tonite.\n",
              "919                 Dont talk to him ever ok its my word.\n",
              "3856    No! But we found a diff farm shop to buy some ...\n",
              "                              ...                        \n",
              "1607    Jus telling u dat i'll b leaving 4 shanghai on...\n",
              "3915                                        Ok. C u then.\n",
              "1428    Tell you what, if you make a little spreadshee...\n",
              "4367    1 I don't have her number and 2 its gonna be a...\n",
              "2522    Dunno lei... I might b eatin wif my frens... I...\n",
              "Name: EmailText, Length: 4457, dtype: object"
            ]
          },
          "metadata": {},
          "execution_count": 49
        }
      ]
    },
    {
      "cell_type": "code",
      "source": [
        "len(x_train)"
      ],
      "metadata": {
        "colab": {
          "base_uri": "https://localhost:8080/"
        },
        "id": "ngNWN0SAJ2Iq",
        "outputId": "b6047815-7568-4fbf-9ed1-4623c86aa5d6"
      },
      "execution_count": 50,
      "outputs": [
        {
          "output_type": "execute_result",
          "data": {
            "text/plain": [
              "4457"
            ]
          },
          "metadata": {},
          "execution_count": 50
        }
      ]
    },
    {
      "cell_type": "code",
      "source": [
        "y_train"
      ],
      "metadata": {
        "colab": {
          "base_uri": "https://localhost:8080/"
        },
        "id": "AdQ6A6ddJ6Pw",
        "outputId": "5e361c70-3c57-429b-a6f4-476c264de544"
      },
      "execution_count": 51,
      "outputs": [
        {
          "output_type": "execute_result",
          "data": {
            "text/plain": [
              "3705    ham\n",
              "1649    ham\n",
              "4833    ham\n",
              "919     ham\n",
              "3856    ham\n",
              "       ... \n",
              "1607    ham\n",
              "3915    ham\n",
              "1428    ham\n",
              "4367    ham\n",
              "2522    ham\n",
              "Name: Label, Length: 4457, dtype: object"
            ]
          },
          "metadata": {},
          "execution_count": 51
        }
      ]
    },
    {
      "cell_type": "code",
      "source": [
        "len(y_train)"
      ],
      "metadata": {
        "colab": {
          "base_uri": "https://localhost:8080/"
        },
        "id": "a9OxVxHqJ_S2",
        "outputId": "90212528-5a87-4869-a161-92cf46c8804e"
      },
      "execution_count": 52,
      "outputs": [
        {
          "output_type": "execute_result",
          "data": {
            "text/plain": [
              "4457"
            ]
          },
          "metadata": {},
          "execution_count": 52
        }
      ]
    },
    {
      "cell_type": "code",
      "source": [
        "x_test"
      ],
      "metadata": {
        "colab": {
          "base_uri": "https://localhost:8080/"
        },
        "id": "5MjB34lNKCpd",
        "outputId": "590018ea-97eb-46e7-aa0f-680472bc374a"
      },
      "execution_count": 53,
      "outputs": [
        {
          "output_type": "execute_result",
          "data": {
            "text/plain": [
              "4732    Good Morning my Dear Shijutta........... Have ...\n",
              "4952    I lost 4 pounds since my doc visit last week w...\n",
              "3724                   Nothing spl..wat abt u and whr ru?\n",
              "5261    I absolutely LOVE South Park! I only recently ...\n",
              "1274    Let me know how to contact you. I've you settl...\n",
              "                              ...                        \n",
              "1388       Oh k.i think most of wi and nz players unsold.\n",
              "4742    I am in hospital da. . I will return home in e...\n",
              "5551    Wen did you get so spiritual and deep. That's ...\n",
              "3452    Nowadays people are notixiquating the laxinorf...\n",
              "226     Will u meet ur dream partner soon? Is ur caree...\n",
              "Name: EmailText, Length: 1115, dtype: object"
            ]
          },
          "metadata": {},
          "execution_count": 53
        }
      ]
    },
    {
      "cell_type": "code",
      "source": [
        "len(x_test)"
      ],
      "metadata": {
        "colab": {
          "base_uri": "https://localhost:8080/"
        },
        "id": "A6xkCJr6KFy9",
        "outputId": "42e755a0-0520-4927-df59-b2dc04a8bd40"
      },
      "execution_count": 54,
      "outputs": [
        {
          "output_type": "execute_result",
          "data": {
            "text/plain": [
              "1115"
            ]
          },
          "metadata": {},
          "execution_count": 54
        }
      ]
    },
    {
      "cell_type": "code",
      "source": [
        "len(y_test)"
      ],
      "metadata": {
        "colab": {
          "base_uri": "https://localhost:8080/"
        },
        "id": "iVBX7rzcKJ_E",
        "outputId": "d2079bf5-781d-4a11-c448-798fc5166bfa"
      },
      "execution_count": 55,
      "outputs": [
        {
          "output_type": "execute_result",
          "data": {
            "text/plain": [
              "1115"
            ]
          },
          "metadata": {},
          "execution_count": 55
        }
      ]
    },
    {
      "cell_type": "code",
      "source": [
        "cv=CountVectorizer()\n",
        "feature=cv.fit_transform(x_train)"
      ],
      "metadata": {
        "id": "Y0k4TwLSKT7v"
      },
      "execution_count": 56,
      "outputs": []
    },
    {
      "cell_type": "code",
      "source": [
        "model=svm.SVC()\n",
        "model.fit(feature,y_train)"
      ],
      "metadata": {
        "colab": {
          "base_uri": "https://localhost:8080/"
        },
        "id": "_ygGvjvsLF2Y",
        "outputId": "fda1312c-76a6-48e6-b972-06489188c30f"
      },
      "execution_count": 32,
      "outputs": [
        {
          "output_type": "execute_result",
          "data": {
            "text/plain": [
              "SVC()"
            ]
          },
          "metadata": {},
          "execution_count": 32
        }
      ]
    },
    {
      "cell_type": "code",
      "source": [
        "testing_feature=cv.transform(x_test)"
      ],
      "metadata": {
        "id": "I-BetgrLLg9X"
      },
      "execution_count": 57,
      "outputs": []
    },
    {
      "cell_type": "code",
      "source": [
        "testing_feature"
      ],
      "metadata": {
        "colab": {
          "base_uri": "https://localhost:8080/"
        },
        "id": "08kSsoJMMI9I",
        "outputId": "da073886-7d20-4217-b922-3a2a72d992cf"
      },
      "execution_count": 58,
      "outputs": [
        {
          "output_type": "execute_result",
          "data": {
            "text/plain": [
              "<1115x7735 sparse matrix of type '<class 'numpy.int64'>'\n",
              "\twith 14114 stored elements in Compressed Sparse Row format>"
            ]
          },
          "metadata": {},
          "execution_count": 58
        }
      ]
    },
    {
      "cell_type": "code",
      "source": [
        "model.score(testing_feature,y_test)"
      ],
      "metadata": {
        "colab": {
          "base_uri": "https://localhost:8080/"
        },
        "id": "X7fqS8JbML_-",
        "outputId": "604497cf-30c6-43fc-d1b5-5d32108aadf1"
      },
      "execution_count": 59,
      "outputs": [
        {
          "output_type": "execute_result",
          "data": {
            "text/plain": [
              "0.9847533632286996"
            ]
          },
          "metadata": {},
          "execution_count": 59
        }
      ]
    }
  ]
}